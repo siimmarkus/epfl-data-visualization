{
 "cells": [
  {
   "cell_type": "code",
   "execution_count": 1,
   "metadata": {},
   "outputs": [],
   "source": [
    "import pandas as pd"
   ]
  },
  {
   "cell_type": "code",
   "execution_count": 9,
   "metadata": {},
   "outputs": [],
   "source": [
    "df = pd.read_csv(\"../data/ipc_global_national_long_latest.csv\", header=0, skiprows=1)"
   ]
  },
  {
   "cell_type": "code",
   "execution_count": 10,
   "metadata": {},
   "outputs": [
    {
     "data": {
      "application/vnd.microsoft.datawrangler.viewer.v0+json": {
       "columns": [
        {
         "name": "index",
         "rawType": "int64",
         "type": "integer"
        },
        {
         "name": "#date+analysis",
         "rawType": "object",
         "type": "string"
        },
        {
         "name": "#country+code",
         "rawType": "object",
         "type": "string"
        },
        {
         "name": "#population",
         "rawType": "int64",
         "type": "integer"
        },
        {
         "name": "#period+v_ipc",
         "rawType": "object",
         "type": "string"
        },
        {
         "name": "#date+start",
         "rawType": "object",
         "type": "string"
        },
        {
         "name": "#date+end",
         "rawType": "object",
         "type": "string"
        },
        {
         "name": "#severity+v_ipc",
         "rawType": "object",
         "type": "string"
        },
        {
         "name": "#affected+num",
         "rawType": "int64",
         "type": "integer"
        },
        {
         "name": "#affected+pct",
         "rawType": "float64",
         "type": "float"
        }
       ],
       "conversionMethod": "pd.DataFrame",
       "ref": "95c78354-21c3-4e6c-a52e-852fa495226a",
       "rows": [
        [
         "0",
         "Oct 2024",
         "AFG",
         "46024352",
         "current",
         "2024-09-01",
         "2024-10-31",
         "all",
         "46024354",
         "1.0"
        ],
        [
         "1",
         "Oct 2024",
         "AFG",
         "46024352",
         "current",
         "2024-09-01",
         "2024-10-31",
         "3+",
         "11610606",
         "0.25"
        ],
        [
         "2",
         "Oct 2024",
         "AFG",
         "46024352",
         "current",
         "2024-09-01",
         "2024-10-31",
         "1",
         "14192140",
         "0.31"
        ],
        [
         "3",
         "Oct 2024",
         "AFG",
         "46024352",
         "current",
         "2024-09-01",
         "2024-10-31",
         "2",
         "20204146",
         "0.44"
        ],
        [
         "4",
         "Oct 2024",
         "AFG",
         "46024352",
         "current",
         "2024-09-01",
         "2024-10-31",
         "3",
         "9798949",
         "0.21"
        ]
       ],
       "shape": {
        "columns": 9,
        "rows": 5
       }
      },
      "text/html": [
       "<div>\n",
       "<style scoped>\n",
       "    .dataframe tbody tr th:only-of-type {\n",
       "        vertical-align: middle;\n",
       "    }\n",
       "\n",
       "    .dataframe tbody tr th {\n",
       "        vertical-align: top;\n",
       "    }\n",
       "\n",
       "    .dataframe thead th {\n",
       "        text-align: right;\n",
       "    }\n",
       "</style>\n",
       "<table border=\"1\" class=\"dataframe\">\n",
       "  <thead>\n",
       "    <tr style=\"text-align: right;\">\n",
       "      <th></th>\n",
       "      <th>#date+analysis</th>\n",
       "      <th>#country+code</th>\n",
       "      <th>#population</th>\n",
       "      <th>#period+v_ipc</th>\n",
       "      <th>#date+start</th>\n",
       "      <th>#date+end</th>\n",
       "      <th>#severity+v_ipc</th>\n",
       "      <th>#affected+num</th>\n",
       "      <th>#affected+pct</th>\n",
       "    </tr>\n",
       "  </thead>\n",
       "  <tbody>\n",
       "    <tr>\n",
       "      <th>0</th>\n",
       "      <td>Oct 2024</td>\n",
       "      <td>AFG</td>\n",
       "      <td>46024352</td>\n",
       "      <td>current</td>\n",
       "      <td>2024-09-01</td>\n",
       "      <td>2024-10-31</td>\n",
       "      <td>all</td>\n",
       "      <td>46024354</td>\n",
       "      <td>1.00</td>\n",
       "    </tr>\n",
       "    <tr>\n",
       "      <th>1</th>\n",
       "      <td>Oct 2024</td>\n",
       "      <td>AFG</td>\n",
       "      <td>46024352</td>\n",
       "      <td>current</td>\n",
       "      <td>2024-09-01</td>\n",
       "      <td>2024-10-31</td>\n",
       "      <td>3+</td>\n",
       "      <td>11610606</td>\n",
       "      <td>0.25</td>\n",
       "    </tr>\n",
       "    <tr>\n",
       "      <th>2</th>\n",
       "      <td>Oct 2024</td>\n",
       "      <td>AFG</td>\n",
       "      <td>46024352</td>\n",
       "      <td>current</td>\n",
       "      <td>2024-09-01</td>\n",
       "      <td>2024-10-31</td>\n",
       "      <td>1</td>\n",
       "      <td>14192140</td>\n",
       "      <td>0.31</td>\n",
       "    </tr>\n",
       "    <tr>\n",
       "      <th>3</th>\n",
       "      <td>Oct 2024</td>\n",
       "      <td>AFG</td>\n",
       "      <td>46024352</td>\n",
       "      <td>current</td>\n",
       "      <td>2024-09-01</td>\n",
       "      <td>2024-10-31</td>\n",
       "      <td>2</td>\n",
       "      <td>20204146</td>\n",
       "      <td>0.44</td>\n",
       "    </tr>\n",
       "    <tr>\n",
       "      <th>4</th>\n",
       "      <td>Oct 2024</td>\n",
       "      <td>AFG</td>\n",
       "      <td>46024352</td>\n",
       "      <td>current</td>\n",
       "      <td>2024-09-01</td>\n",
       "      <td>2024-10-31</td>\n",
       "      <td>3</td>\n",
       "      <td>9798949</td>\n",
       "      <td>0.21</td>\n",
       "    </tr>\n",
       "  </tbody>\n",
       "</table>\n",
       "</div>"
      ],
      "text/plain": [
       "  #date+analysis #country+code  #population #period+v_ipc #date+start  \\\n",
       "0       Oct 2024           AFG     46024352       current  2024-09-01   \n",
       "1       Oct 2024           AFG     46024352       current  2024-09-01   \n",
       "2       Oct 2024           AFG     46024352       current  2024-09-01   \n",
       "3       Oct 2024           AFG     46024352       current  2024-09-01   \n",
       "4       Oct 2024           AFG     46024352       current  2024-09-01   \n",
       "\n",
       "    #date+end #severity+v_ipc  #affected+num  #affected+pct  \n",
       "0  2024-10-31             all       46024354           1.00  \n",
       "1  2024-10-31              3+       11610606           0.25  \n",
       "2  2024-10-31               1       14192140           0.31  \n",
       "3  2024-10-31               2       20204146           0.44  \n",
       "4  2024-10-31               3        9798949           0.21  "
      ]
     },
     "execution_count": 10,
     "metadata": {},
     "output_type": "execute_result"
    }
   ],
   "source": [
    "df.head()"
   ]
  },
  {
   "cell_type": "code",
   "execution_count": null,
   "metadata": {},
   "outputs": [],
   "source": []
  }
 ],
 "metadata": {
  "kernelspec": {
   "display_name": ".venv",
   "language": "python",
   "name": "python3"
  },
  "language_info": {
   "codemirror_mode": {
    "name": "ipython",
    "version": 3
   },
   "file_extension": ".py",
   "mimetype": "text/x-python",
   "name": "python",
   "nbconvert_exporter": "python",
   "pygments_lexer": "ipython3",
   "version": "3.13.1"
  }
 },
 "nbformat": 4,
 "nbformat_minor": 2
}
